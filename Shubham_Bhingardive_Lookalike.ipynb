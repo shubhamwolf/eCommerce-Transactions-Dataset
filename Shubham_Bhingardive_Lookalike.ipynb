{
 "cells": [
  {
   "cell_type": "code",
   "execution_count": 1,
   "id": "cd8ee33e",
   "metadata": {},
   "outputs": [],
   "source": [
    "import pandas as pd \n",
    "from sklearn.metrics.pairwise import cosine_similarity\n",
    "from sklearn.preprocessing import StandardScaler"
   ]
  },
  {
   "cell_type": "code",
   "execution_count": 2,
   "id": "a4525198",
   "metadata": {},
   "outputs": [],
   "source": [
    "customers = pd.read_csv(\"Customers.csv\")\n",
    "products = pd.read_csv(\"Products.csv\")\n",
    "transactions = pd.read_csv(\"Transactions.csv\")"
   ]
  },
  {
   "cell_type": "code",
   "execution_count": 3,
   "id": "14cb5e9b",
   "metadata": {},
   "outputs": [],
   "source": [
    "# Step 1: Data Preparation\n",
    "# Aggregate transactions to get customer-level metrics\n",
    "merged_df = transactions.merge(products, on='ProductID', how='left').merge(customers, on='CustomerID', how='left')\n",
    "\n",
    "customer_product_matrix = merged_df.pivot_table(\n",
    "    index=\"CustomerID\",\n",
    "    columns=\"ProductName\",\n",
    "    values=\"TotalValue\",\n",
    "    aggfunc=\"sum\",\n",
    "    fill_value=0,\n",
    ")"
   ]
  },
  {
   "cell_type": "code",
   "execution_count": 4,
   "id": "758bc0ac",
   "metadata": {},
   "outputs": [],
   "source": [
    "# Step 2: Feature Engineering\n",
    "# Add customer-level features (Region and SignupDate)\n",
    "customer_features = customers.set_index(\"CustomerID\")[[\"Region\"]]\n",
    "customer_features = pd.get_dummies(customer_features)  # One-hot encode Region"
   ]
  },
  {
   "cell_type": "code",
   "execution_count": 5,
   "id": "09bfea21",
   "metadata": {},
   "outputs": [],
   "source": [
    "# Combine customer-product matrix and customer features\n",
    "customer_features_combined = customer_product_matrix.join(customer_features)"
   ]
  },
  {
   "cell_type": "code",
   "execution_count": 6,
   "id": "94604946",
   "metadata": {},
   "outputs": [],
   "source": [
    "# Scale the features for similarity calculation\n",
    "scaler = StandardScaler()\n",
    "customer_features_scaled = scaler.fit_transform(customer_features_combined)"
   ]
  },
  {
   "cell_type": "code",
   "execution_count": 7,
   "id": "828a094a",
   "metadata": {},
   "outputs": [],
   "source": [
    "# Step 3: Similarity Calculation\n",
    "# Compute pairwise cosine similarity\n",
    "similarity_matrix = cosine_similarity(customer_features_scaled)\n",
    "similarity_df = pd.DataFrame(\n",
    "    similarity_matrix, index=customer_features_combined.index, columns=customer_features_combined.index\n",
    ")"
   ]
  },
  {
   "cell_type": "code",
   "execution_count": 8,
   "id": "22582389",
   "metadata": {},
   "outputs": [],
   "source": [
    "# Step 4: Find Top 3 Lookalikes\n",
    "lookalike_map = {}\n",
    "\n",
    "for customer_id in customers[\"CustomerID\"].iloc[:20]:  # First 20 customers (C0001 - C0020)\n",
    "    # Get similarity scores for the customer and sort by highest similarity (excluding self)\n",
    "    similar_customers = (\n",
    "        similarity_df[customer_id]\n",
    "        .sort_values(ascending=False)\n",
    "        .iloc[1:4]\n",
    "    )  # Exclude the first one as it's the customer itself\n",
    "    lookalike_map[customer_id] = list(zip(similar_customers.index, similar_customers.values))"
   ]
  },
  {
   "cell_type": "code",
   "execution_count": 11,
   "id": "5201602a",
   "metadata": {},
   "outputs": [
    {
     "name": "stdout",
     "output_type": "stream",
     "text": [
      "Lookalike Model Completed and saved to Lookalike.csv\n"
     ]
    }
   ],
   "source": [
    "# Step 5: Create Lookalike.csv\n",
    "lookalike_df = pd.DataFrame.from_dict(\n",
    "    {k: [{\"cust_id\": v[0], \"score\": v[1]} for v in val] for k, val in lookalike_map.items()},\n",
    "    orient=\"index\"\n",
    ")\n",
    "lookalike_df.to_csv(\"Lookalike.csv\", index=False)\n",
    "\n",
    "lookalike_map\n",
    "print(\"Lookalike Model Completed and saved to Lookalike.csv\")"
   ]
  },
  {
   "cell_type": "code",
   "execution_count": null,
   "id": "8ed83047",
   "metadata": {},
   "outputs": [],
   "source": []
  }
 ],
 "metadata": {
  "kernelspec": {
   "display_name": "Python 3 (ipykernel)",
   "language": "python",
   "name": "python3"
  },
  "language_info": {
   "codemirror_mode": {
    "name": "ipython",
    "version": 3
   },
   "file_extension": ".py",
   "mimetype": "text/x-python",
   "name": "python",
   "nbconvert_exporter": "python",
   "pygments_lexer": "ipython3",
   "version": "3.11.7"
  }
 },
 "nbformat": 4,
 "nbformat_minor": 5
}
